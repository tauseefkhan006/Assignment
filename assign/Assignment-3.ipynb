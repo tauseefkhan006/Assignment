{
 "cells": [
  {
   "cell_type": "markdown",
   "metadata": {},
   "source": [
    "# Qus: 1==>\n",
    "Create a numpy array starting from 2 till 50 with a stepsize of 3."
   ]
  },
  {
   "cell_type": "code",
   "execution_count": 1,
   "metadata": {},
   "outputs": [],
   "source": [
    "import numpy as np"
   ]
  },
  {
   "cell_type": "code",
   "execution_count": 2,
   "metadata": {},
   "outputs": [
    {
     "name": "stdout",
     "output_type": "stream",
     "text": [
      "[ 2  5  8 11 14 17 20 23 26 29 32 35 38 41 44 47 50]\n"
     ]
    },
    {
     "data": {
      "text/plain": [
       "17"
      ]
     },
     "execution_count": 2,
     "metadata": {},
     "output_type": "execute_result"
    }
   ],
   "source": [
    "arr = np.arange(2,51,3)\n",
    "print(arr)\n",
    "arr.size"
   ]
  },
  {
   "cell_type": "markdown",
   "metadata": {},
   "source": [
    "# Qus: 2==>\n",
    "Accept two lists of 5 elements each from the user.\n",
    "Convert them to numpy arrays. Concatenate these arrays and print it. Also sort these arrays and print it"
   ]
  },
  {
   "cell_type": "code",
   "execution_count": 3,
   "metadata": {},
   "outputs": [
    {
     "name": "stdout",
     "output_type": "stream",
     "text": [
      " list 1 : enter 5 element separated by space: \t1 2 6 8 8\n",
      " list-1 : [1, 2, 6, 8, 8]\n",
      "<class 'list'>\n",
      "\n",
      " list 2 : enter 5 element separated by space: \t9 5 21 58 63\n",
      " list-2 : [9, 5, 21, 58, 63]\n",
      "<class 'list'>\n",
      "\n",
      " aray-1 : [1 2 6 8 8]\n",
      "<class 'numpy.ndarray'>\n",
      "\n",
      "array-2 : [ 9  5 21 58 63]\n",
      "<class 'numpy.ndarray'>\n",
      "\n",
      "concatenation : [ 1  2  6  8  8  9  5 21 58 63]\n",
      "<class 'numpy.ndarray'>\n",
      "\n",
      "sort : [ 1  2  5  6  8  8  9 21 58 63]\n"
     ]
    }
   ],
   "source": [
    "\n",
    "l1 = list(int(i) for i in input(\" list 1 : enter 5 element separated by space: \\t\").split())[:5]\n",
    "print(\" list-1 :\", l1)\n",
    "print(type(l1))\n",
    "print()\n",
    "l2 = list(int(j) for j in input(\" list 2 : enter 5 element separated by space: \\t\").split())[:5]\n",
    "print(\" list-2 :\", l2)\n",
    "print(type(l2))\n",
    "print()\n",
    "arr1 = np.array(l1)\n",
    "print(\" aray-1 :\",arr1)\n",
    "print(type(arr1))\n",
    "print()\n",
    "arr2 = np.array(l2)\n",
    "print(\"array-2 :\",arr2)\n",
    "print(type(arr2))\n",
    "print()\n",
    "con=np.concatenate([arr1 , arr2])\n",
    "print(\"concatenation :\",con)\n",
    "print(type(con))\n",
    "print()\n",
    "srt = np.sort(con)\n",
    "print(\"sort :\",srt)"
   ]
  },
  {
   "cell_type": "markdown",
   "metadata": {},
   "source": [
    "# Qus 3: ==>\n",
    "Write a code snippet to find the dimensions of a ndarray and its size.\n"
   ]
  },
  {
   "cell_type": "code",
   "execution_count": 2,
   "metadata": {},
   "outputs": [
    {
     "name": "stdout",
     "output_type": "stream",
     "text": [
      "[0 1 2]\n",
      "1\n",
      "3\n",
      "[[0 1 2]\n",
      " [3 4 5]\n",
      " [6 7 8]]\n",
      "2\n",
      "9\n",
      "[[[ 0  1  2]\n",
      "  [ 3  4  5]\n",
      "  [ 6  7  8]\n",
      "  [ 9 10 11]]\n",
      "\n",
      " [[12 13 14]\n",
      "  [15 16 17]\n",
      "  [18 19 20]\n",
      "  [21 22 23]]\n",
      "\n",
      " [[24 25 26]\n",
      "  [27 28 29]\n",
      "  [30 31 32]\n",
      "  [33 34 35]]]\n",
      "3\n",
      "36\n"
     ]
    }
   ],
   "source": [
    "#1-D array\n",
    "a_1d = np.arange(3)\n",
    "print(a_1d)\n",
    "print(a_1d.ndim)\n",
    "print(a_1d.size)\n",
    "\n",
    "#2-D array\n",
    "a_2d = np.arange(9).reshape(3,3)\n",
    "print(a_2d)\n",
    "print(a_2d.ndim)\n",
    "print(a_2d.size)\n",
    "\n",
    "#N-D array\n",
    "a_nd = np.arange(36).reshape(3,4,3)\n",
    "print(a_nd)\n",
    "print(a_nd.ndim)\n",
    "print(a_nd.size)\n",
    "\n",
    "\n",
    "\n"
   ]
  },
  {
   "cell_type": "code",
   "execution_count": 7,
   "metadata": {},
   "outputs": [],
   "source": [
    "# This is an example snippet!\n",
    "# To create your own, add a new snippet block to the\n",
    "# snippets.json file in your jupyter nbextensions directory:\n",
    "# /nbextensions/snippets/snippets.json\n",
    "import this"
   ]
  },
  {
   "cell_type": "markdown",
   "metadata": {},
   "source": [
    "# Qus: 4==>\n",
    "How to convert a 1D array into a 2D array"
   ]
  },
  {
   "cell_type": "code",
   "execution_count": 8,
   "metadata": {},
   "outputs": [
    {
     "name": "stdout",
     "output_type": "stream",
     "text": [
      "[0 1 2 3 4 5]\n"
     ]
    },
    {
     "data": {
      "text/plain": [
       "(6,)"
      ]
     },
     "execution_count": 8,
     "metadata": {},
     "output_type": "execute_result"
    }
   ],
   "source": [
    "#1-D array\n",
    "import numpy as np\n",
    "one_d = np.arange(6)\n",
    "print(one_d)\n",
    "np.shape(one_d)"
   ]
  },
  {
   "cell_type": "code",
   "execution_count": 12,
   "metadata": {},
   "outputs": [
    {
     "name": "stdout",
     "output_type": "stream",
     "text": [
      "[[0]\n",
      " [1]\n",
      " [2]\n",
      " [3]\n",
      " [4]\n",
      " [5]]\n"
     ]
    },
    {
     "data": {
      "text/plain": [
       "(6, 1)"
      ]
     },
     "execution_count": 12,
     "metadata": {},
     "output_type": "execute_result"
    }
   ],
   "source": [
    "#using  np.expand_dims\n",
    "two_d = np.expand_dims(one_d, axis=1) \n",
    "print(two_d)\n",
    "np.shape(two_d)"
   ]
  },
  {
   "cell_type": "code",
   "execution_count": 14,
   "metadata": {},
   "outputs": [
    {
     "name": "stdout",
     "output_type": "stream",
     "text": [
      "[[0]\n",
      " [1]\n",
      " [2]\n",
      " [3]\n",
      " [4]\n",
      " [5]]\n"
     ]
    },
    {
     "data": {
      "text/plain": [
       "(6, 1)"
      ]
     },
     "execution_count": 14,
     "metadata": {},
     "output_type": "execute_result"
    }
   ],
   "source": [
    "#using np.newaxis\n",
    "new = one_d[:,np.newaxis]\n",
    "print(new)\n",
    "np.shape(new)\n"
   ]
  },
  {
   "cell_type": "code",
   "execution_count": null,
   "metadata": {},
   "outputs": [],
   "source": []
  }
 ],
 "metadata": {
  "kernelspec": {
   "display_name": "Python 3",
   "language": "python",
   "name": "python3"
  },
  "language_info": {
   "codemirror_mode": {
    "name": "ipython",
    "version": 3
   },
   "file_extension": ".py",
   "mimetype": "text/x-python",
   "name": "python",
   "nbconvert_exporter": "python",
   "pygments_lexer": "ipython3",
   "version": "3.8.3"
  },
  "latex_envs": {
   "LaTeX_envs_menu_present": true,
   "autoclose": false,
   "autocomplete": true,
   "bibliofile": "biblio.bib",
   "cite_by": "apalike",
   "current_citInitial": 1,
   "eqLabelWithNumbers": true,
   "eqNumInitial": 1,
   "hotkeys": {
    "equation": "Ctrl-E",
    "itemize": "Ctrl-I"
   },
   "labels_anchors": false,
   "latex_user_defs": false,
   "report_style_numbering": false,
   "user_envs_cfg": false
  }
 },
 "nbformat": 4,
 "nbformat_minor": 4
}
