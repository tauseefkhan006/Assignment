{
 "cells": [
  {
   "cell_type": "markdown",
   "metadata": {},
   "source": [
    "# Qustion No.1 ==>\n",
    "ANS: (B)Rainbow"
   ]
  },
  {
   "cell_type": "markdown",
   "metadata": {},
   "source": [
    "# Qustion No.2 ==>\n",
    "Write a program which prints “LETS UPGRADE”. (Please note that you have to\n",
    "print in ALL CAPS as given)"
   ]
  },
  {
   "cell_type": "code",
   "execution_count": 1,
   "metadata": {},
   "outputs": [
    {
     "name": "stdout",
     "output_type": "stream",
     "text": [
      "LETS UPGRADE\n"
     ]
    }
   ],
   "source": [
    "s=\"lets upgrade\"\n",
    "print(s.upper())"
   ]
  },
  {
   "cell_type": "markdown",
   "metadata": {},
   "source": [
    "# Qustion no.3 ==>\n",
    "Write a program that takes cost price and selling price as input and displays whether the transaction is a\n",
    "Profit or a Loss or Neither."
   ]
  },
  {
   "cell_type": "code",
   "execution_count": 7,
   "metadata": {},
   "outputs": [
    {
     "name": "stdout",
     "output_type": "stream",
     "text": [
      "20\n",
      "40\n",
      "Profit\n"
     ]
    }
   ],
   "source": [
    "cp = float(input())\n",
    "sp = float(input())\n",
    "if cp<sp:\n",
    "    print(\"Profit\")\n",
    "elif cp>sp:\n",
    "    print(\"Loss\")\n",
    "else:\n",
    "    print(\"Neither\")"
   ]
  },
  {
   "cell_type": "markdown",
   "metadata": {},
   "source": [
    "# Qustion No.4 ==>\n",
    "Write a program that takes an amount in Euros as input. You need to find its equivalent in\n",
    "Rupees and display it. Assume 1 Euro equals Rs. 80.\n"
   ]
  },
  {
   "cell_type": "code",
   "execution_count": 10,
   "metadata": {},
   "outputs": [
    {
     "name": "stdout",
     "output_type": "stream",
     "text": [
      "10\n",
      "800.0\n"
     ]
    }
   ],
   "source": [
    "e = float(input())\n",
    "r = e*80\n",
    "print(r)"
   ]
  }
 ],
 "metadata": {
  "kernelspec": {
   "display_name": "Python 3",
   "language": "python",
   "name": "python3"
  },
  "language_info": {
   "codemirror_mode": {
    "name": "ipython",
    "version": 3
   },
   "file_extension": ".py",
   "mimetype": "text/x-python",
   "name": "python",
   "nbconvert_exporter": "python",
   "pygments_lexer": "ipython3",
   "version": "3.8.3"
  }
 },
 "nbformat": 4,
 "nbformat_minor": 4
}
