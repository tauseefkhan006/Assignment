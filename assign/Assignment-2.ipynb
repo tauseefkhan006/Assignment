{
 "cells": [
  {
   "cell_type": "markdown",
   "metadata": {},
   "source": [
    "# Qus:1==>\n",
    "Create an empty list. Accept 10 numbers from the user and append to it the list if it is an even number."
   ]
  },
  {
   "cell_type": "code",
   "execution_count": 1,
   "metadata": {},
   "outputs": [
    {
     "name": "stdout",
     "output_type": "stream",
     "text": [
      "enter the 10 numbers \n",
      "1\n",
      "2\n",
      "3\n",
      "4\n",
      "5\n",
      "6\n",
      "7\n",
      "8\n",
      "9\n",
      "10\n",
      "[2, 4, 6, 8, 10]\n"
     ]
    }
   ],
   "source": [
    "l = []\n",
    "print(\"enter the 10 numbers \")\n",
    "for i in range(10):\n",
    "    n = int(input())\n",
    "    if n % 2 == 0:\n",
    "        l.append(n)\n",
    "print(l)"
   ]
  },
  {
   "cell_type": "markdown",
   "metadata": {},
   "source": [
    "# Qus:2 ==> List Comprehensions:"
   ]
  },
  {
   "cell_type": "raw",
   "metadata": {},
   "source": [
    "List Comprehensions provide an elegant way to create new lists.\n",
    "The following is the basic structure of a list comprehension:\n",
    "\n",
    "output_list = [output_exp for var in input_list if (var satisfies this condition)]\n",
    "\n",
    "Note that list comprehension may or may not contain an if condition. List comprehensions can contain multiple for (nested list comprehensions).\n"
   ]
  },
  {
   "cell_type": "code",
   "execution_count": 2,
   "metadata": {},
   "outputs": [
    {
     "name": "stdout",
     "output_type": "stream",
     "text": [
      "[2, 4, 6, 8, 10]\n"
     ]
    }
   ],
   "source": [
    "# Constructing output list WITHOUT Using List comprehensions \n",
    "#even number\n",
    "input_list = [1,2,3,4,5,6,7,8,9,10]\n",
    "output_list = []\n",
    "for i in input_list:\n",
    "    if i % 2 ==0:\n",
    "        output_list.append(i)\n",
    "print(output_list)"
   ]
  },
  {
   "cell_type": "code",
   "execution_count": 3,
   "metadata": {},
   "outputs": [
    {
     "name": "stdout",
     "output_type": "stream",
     "text": [
      "[2, 4, 6, 8, 10, 2]\n"
     ]
    }
   ],
   "source": [
    "#Using List comprehensions \n",
    "# for constructing output list \n",
    "input_list = [2,4,5,6,8,10,11,15,9,2]\n",
    "output_list = [i for i in input_list if i % 2 == 0]\n",
    "print(output_list)"
   ]
  },
  {
   "cell_type": "raw",
   "metadata": {},
   "source": [
    "Suppose we want to create an output list which contains squares of all the numbers from 1 to 9. Let’s see how to do this using for loops and list comprehension."
   ]
  },
  {
   "cell_type": "code",
   "execution_count": 4,
   "metadata": {},
   "outputs": [
    {
     "name": "stdout",
     "output_type": "stream",
     "text": [
      "[1, 4, 9, 16, 25, 36, 49, 64, 81]\n"
     ]
    }
   ],
   "source": [
    "# Constructing output list using for loop\n",
    "output = []\n",
    "for i in range(1,10):\n",
    "    output.append(pow(i,2))\n",
    "print(output)    \n"
   ]
  },
  {
   "cell_type": "code",
   "execution_count": 5,
   "metadata": {},
   "outputs": [
    {
     "name": "stdout",
     "output_type": "stream",
     "text": [
      "[1, 4, 9, 16, 25, 36, 49, 64, 81]\n"
     ]
    }
   ],
   "source": [
    "# Constructing output list \n",
    "# using list comprehension\n",
    "list = [i**2 for i in range(1,10)]\n",
    "print(list)"
   ]
  },
  {
   "cell_type": "raw",
   "metadata": {},
   "source": [
    "# Key Takeaways ==>\n",
    "\n",
    "# list comprehension is a very concise and elegant way of defining and creating lists based on existing lists.\n",
    "\n",
    "# When it comes to creating lists, list comprehensions are more compact and faster than loops and other functions used with lambda, such as, map(), filter(), and reduce().\n",
    "\n",
    "# Every list comprehension can be rewritten in for loops, but not every complex for loop can be rewritten in Python list comprehension.\n",
    "\n",
    "# list comprehensions are considered to be more Pythonic because of how compact they can be and how readable they are.\n",
    "\n",
    "# Writing very long list comprehension in one line should be avoided so as to keep the code user-friendly."
   ]
  },
  {
   "cell_type": "markdown",
   "metadata": {},
   "source": [
    "## Qus: 3 ==>\n",
    "given a number n, you have to write a program that generates a dictionary d which\n",
    "contains (i, i*i), where i is from 1 to n (both included).\n",
    "Then you have to just print this dictionary d.\n",
    "\n"
   ]
  },
  {
   "cell_type": "code",
   "execution_count": 6,
   "metadata": {},
   "outputs": [
    {
     "name": "stdout",
     "output_type": "stream",
     "text": [
      "10\n",
      "{1: 1, 2: 4, 3: 9, 4: 16, 5: 25, 6: 36, 7: 49, 8: 64, 9: 81, 10: 100}\n"
     ]
    }
   ],
   "source": [
    "n = int(input())\n",
    "num = range(1,n+1)\n",
    "new_dict ={i:i*i for i in num}\n",
    "print(new_dict)"
   ]
  },
  {
   "cell_type": "markdown",
   "metadata": {},
   "source": [
    "## Qus : 4 ==>\n",
    "ROBOT AND CHARGER\n"
   ]
  },
  {
   "cell_type": "code",
   "execution_count": 22,
   "metadata": {},
   "outputs": [
    {
     "name": "stdout",
     "output_type": "stream",
     "text": [
      "8\n",
      "UP 5\n",
      "DOWN 4\n",
      "UP 5\n",
      "LEFT 2\n",
      "RIGHT 3\n",
      "DOWN 4\n",
      "UP 2\n",
      "DOWN 5\n",
      "1\n"
     ]
    }
   ],
   "source": [
    "import math\n",
    "n=int(input())\n",
    "x=0\n",
    "y=0\n",
    "for robot in range(n):\n",
    "    direction,magnitude = input().split()\n",
    "    if direction == 'UP':\n",
    "        y = y + int(magnitude)\n",
    "    if direction == 'DOWN':\n",
    "        y = y - int(magnitude)\n",
    "    if direction == 'RIGHT':\n",
    "        x = x + int(magnitude)\n",
    "    if direction == 'LEFT':\n",
    "        x = x - int(magnitude)\n",
    "print(round((math.sqrt(x*x + y*y))))"
   ]
  },
  {
   "cell_type": "code",
   "execution_count": null,
   "metadata": {},
   "outputs": [],
   "source": []
  }
 ],
 "metadata": {
  "kernelspec": {
   "display_name": "Python 3",
   "language": "python",
   "name": "python3"
  },
  "language_info": {
   "codemirror_mode": {
    "name": "ipython",
    "version": 3
   },
   "file_extension": ".py",
   "mimetype": "text/x-python",
   "name": "python",
   "nbconvert_exporter": "python",
   "pygments_lexer": "ipython3",
   "version": "3.8.3"
  }
 },
 "nbformat": 4,
 "nbformat_minor": 4
}
